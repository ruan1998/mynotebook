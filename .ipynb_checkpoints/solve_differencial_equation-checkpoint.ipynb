{
 "cells": [
  {
   "cell_type": "markdown",
   "metadata": {},
   "source": [
    "# 欧拉法\n",
    "$\\begin{equation}  \n",
    "\\left\\{  \n",
    "             \\begin{array}{**lr**}\n",
    "             \\dfrac{dy}{dx} = f(x,y)\\\\\n",
    "             y(x_0) = y_0 \\\\\n",
    "             \\end{array}  \n",
    "\\right.  \n",
    "\\end{equation}$\n"
   ]
  },
  {
   "cell_type": "code",
   "execution_count": 2,
   "metadata": {},
   "outputs": [],
   "source": [
    "import numpy as np\n",
    "import matplotlib.pyplot as plt\n",
    "import sympy as sy\n",
    "%matplotlib inline"
   ]
  },
  {
   "cell_type": "code",
   "execution_count": 37,
   "metadata": {},
   "outputs": [
    {
     "data": {
      "text/plain": [
       " 2    3\n",
       "x  + y "
      ]
     },
     "execution_count": 37,
     "metadata": {},
     "output_type": "execute_result"
    }
   ],
   "source": [
    "# 符号化变量\n",
    "x,y = sy.symbols('x y')\n",
    "\n",
    "# 输出设置\n",
    "sy.init_printing(use_latex=False)\n",
    "#输出示例\n",
    "x**2+y**3"
   ]
  },
  {
   "cell_type": "code",
   "execution_count": 23,
   "metadata": {},
   "outputs": [
    {
     "data": {
      "text/plain": [
       "array([ 5,  8, 11, 14, 17])"
      ]
     },
     "execution_count": 23,
     "metadata": {},
     "output_type": "execute_result"
    }
   ],
   "source": [
    "#f(x,y)转为numpy示例\n",
    "a = np.arange(0,5,1)\n",
    "b = np.arange(5,10,1)\n",
    "x,y = sy.symbols('x y')\n",
    "expr = 2*x+y\n",
    "f = sy.lambdify((x,y), expr, \"numpy\")\n",
    "f(x=a,y=b)\n"
   ]
  },
  {
   "cell_type": "code",
   "execution_count": 4,
   "metadata": {},
   "outputs": [
    {
     "data": {
      "text/plain": [
       "array([ 0,  1,  4,  9, 16, 25, 36, 49, 64, 81], dtype=int32)"
      ]
     },
     "execution_count": 4,
     "metadata": {},
     "output_type": "execute_result"
    }
   ],
   "source": [
    "a = np.arange(10)\n",
    "\n",
    "expr = x**2\n",
    "\n",
    "# 构造自己的函数\n",
    "f = sy.lambdify(x, expr, \"numpy\")\n",
    "\n",
    "f(a)"
   ]
  },
  {
   "cell_type": "code",
   "execution_count": 5,
   "metadata": {},
   "outputs": [
    {
     "name": "stdout",
     "output_type": "stream",
     "text": [
      "   5     4     2\n",
      "1 x + 2 x + 3 x + 5\n",
      "   4     3\n",
      "5 x + 8 x + 6 x = 19\n"
     ]
    }
   ],
   "source": [
    "#numpy线性函数\n",
    "p = np.poly1d([1,2,0,3,0,5])\n",
    "print(p)\n",
    "print(p.deriv(1), '=',p.deriv(1)(1))"
   ]
  },
  {
   "cell_type": "markdown",
   "metadata": {},
   "source": [
    "### 定义欧拉法、隐式梯形法、改进欧拉法的函数"
   ]
  },
  {
   "cell_type": "code",
   "execution_count": 6,
   "metadata": {},
   "outputs": [],
   "source": [
    "def calculate_f_xy(derivative,x=None,y=None):\n",
    "    '''根据f(x,y)参数个数采用不同赋值'''\n",
    "    if x and y:\n",
    "        return None\n",
    "    elif 'x' in derivative.__code__.co_varnames:\n",
    "        dy_dx = derivative(x=x)\n",
    "    elif 'y' in derivative.__code__.co_varnames:\n",
    "        dy_dx = derivative(y=y)\n",
    "    else:\n",
    "        dy_dx = derivative(x=x, y=y)\n",
    "        \n",
    "def base_euler(derivative, n=50, limit=(0,1), begin=(0,1)):\n",
    "    '''\n",
    "    欧拉法求微分方程\n",
    "    Parameters\n",
    "    ----------\n",
    "    @derivative 导数dy/dx\n",
    "    @n 步长\n",
    "    @limit 函数区间（start, end）\n",
    "    @begin 初值（x0, y0）\n",
    "    '''\n",
    "#     derivative = np.poly1d(derivative)\n",
    "    steps = (limit[1] - limit[0]) / n\n",
    "    x = np.linspace(limit[0], limit[1], n)\n",
    "    dy_dx = derivative(x)\n",
    "    y = np.full(n, begin[1], dtype=np.float32)\n",
    "    y[1:] = y[1:] + np.cumsum(steps * dy_dx)[:-1]\n",
    "    return x, y\n",
    "\n",
    "def implicit_trapezoidal(derivative, n=50, limit=(0,1), begin=(0,1), conver=False, e=0.0001):\n",
    "    '''\n",
    "    隐式梯形法求微分方程\n",
    "    Parameters\n",
    "    ----------\n",
    "    @derivative 导数dy/dx\n",
    "    @n 步长\n",
    "    @limit 函数区间（start, end）\n",
    "    @begin 初值（x0, y0）\n",
    "    @conver if True 每步长迭代到收敛 else 每步长迭代一次\n",
    "    @e 收敛判据|y'-y| < e\n",
    "    '''\n",
    "#     derivative = np.poly1d(derivative)\n",
    "    steps = (limit[1] - limit[0]) / n\n",
    "    x = np.linspace(limit[0], limit[1], n)\n",
    "    dy_dx = (derivative(x) + derivative(x+steps)) / 2\n",
    "    y = np.full(n, begin[1], dtype=np.float32)\n",
    "    y[1:] = y[1:] + np.cumsum(steps * dy_dx)[:-1]\n",
    "    return x, y\n",
    "\n",
    "def improve_euler(derivative, n=50, limit=(0,1), begin=(0,1)):\n",
    "    '''\n",
    "    改进欧拉法求微分方程\n",
    "    Parameters\n",
    "    ----------\n",
    "    @derivative 导数dy/dx\n",
    "    @n 步长\n",
    "    @limit 函数区间（start, end）\n",
    "    @begin 初值（x0, y0）\n",
    "    '''\n",
    "#     derivative = np.poly1d(derivative)\n",
    "    steps = (limit[1] - limit[0]) / n\n",
    "    x = np.linspace(limit[0] ,limit[1], n)\n",
    "    dy_dx = (derivative(x) + derivative(x+steps)) / 2\n",
    "    y = np.full(n, begin[1], dtype=np.float32)\n",
    "    y[1:] = y[1:] + np.cumsum(steps * dy_dx)[:-1]\n",
    "    return x, y"
   ]
  },
  {
   "cell_type": "markdown",
   "metadata": {},
   "source": [
    "### 定义输入的导数、步长、函数定义域、原函数"
   ]
  },
  {
   "cell_type": "code",
   "execution_count": 32,
   "metadata": {},
   "outputs": [],
   "source": [
    "#sympy定义x、y数学符号\n",
    "x,y = sy.symbols('x y')\n",
    "#用x、y定义f(x,y)\n",
    "deriv, n, limit = x**2-x-20, 20, (0,10)\n",
    "deriv = sy.lambdify(x, deriv, \"numpy\")\n",
    "x_b, y_b = base_euler(deriv, limit=limit, n=n)\n",
    "x_i, y_i = implicit_trapezoidal(deriv, limit=limit, n=n)\n",
    "# y_r = (lambda t:-10*(t**2)+1)(x)\n",
    "x_r = x_b\n",
    "y_r = np.poly1d([1, -1, -20]).integ(1, k=1)(x_r)"
   ]
  },
  {
   "cell_type": "code",
   "execution_count": 72,
   "metadata": {},
   "outputs": [
    {
     "data": {
      "text/plain": [
       "('x',)"
      ]
     },
     "execution_count": 72,
     "metadata": {},
     "output_type": "execute_result"
    }
   ],
   "source": [
    "#显示函数的关键字参数\n",
    "deriv.__code__.co_varnames"
   ]
  },
  {
   "cell_type": "code",
   "execution_count": 34,
   "metadata": {},
   "outputs": [
    {
     "data": {
      "text/plain": [
       "<matplotlib.legend.Legend at 0x28cc2102dd8>"
      ]
     },
     "execution_count": 34,
     "metadata": {},
     "output_type": "execute_result"
    },
    {
     "data": {
      "image/png": "[encoded data removed]",
      "text/plain": [
       "<Figure size 720x360 with 1 Axes>"
      ]
     },
     "metadata": {},
     "output_type": "display_data"
    }
   ],
   "source": [
    "fig, ax = plt.subplots(1,1,figsize=(10,5))\n",
    "ax.plot(x_r, y_r, '-g', label='original')\n",
    "ax.plot(x_b, y_b, '--b', label='euler')\n",
    "ax.plot(x_i, y_i, '-.r', label='implicit trapezoidal')\n",
    "plt.legend(loc='best')"
   ]
  },
  {
   "cell_type": "code",
   "execution_count": null,
   "metadata": {},
   "outputs": [],
   "source": []
  }
 ],
 "metadata": {
  "kernelspec": {
   "display_name": "Python 3",
   "language": "python",
   "name": "python3"
  },
  "language_info": {
   "codemirror_mode": {
    "name": "ipython",
    "version": 3
   },
   "file_extension": ".py",
   "mimetype": "text/x-python",
   "name": "python",
   "nbconvert_exporter": "python",
   "pygments_lexer": "ipython3",
   "version": "3.6.8"
  }
 },
 "nbformat": 4,
 "nbformat_minor": 2
}
