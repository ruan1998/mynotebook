{
 "cells": [
  {
   "cell_type": "code",
   "execution_count": 3,
   "metadata": {},
   "outputs": [],
   "source": [
    "import numpy as np"
   ]
  },
  {
   "cell_type": "code",
   "execution_count": 4,
   "metadata": {},
   "outputs": [
    {
     "data": {
      "text/plain": [
       "8.000000000000002"
      ]
     },
     "execution_count": 4,
     "metadata": {},
     "output_type": "execute_result"
    }
   ],
   "source": [
    "matrix1 = np.array([[1,2,3,4],\n",
    "                    [2,3,4,5],\n",
    "                    [3,4,5,6],\n",
    "                    [4,5,6,7]])\n",
    "matrix2 = np.array([[1,2,5,8],\n",
    "                    [2,3,4,6],\n",
    "                    [5,4,5,9],\n",
    "                    [8,6,9,1]])\n",
    "matrix3 = np.array([[2, -1, 0, -1],\n",
    "                    [-1, 2, -1, 0],\n",
    "                    [0, -1, 2, -1],\n",
    "                    [-1, 0, -1, 4]])\n",
    "np.linalg.det(matrix3)"
   ]
  },
  {
   "cell_type": "code",
   "execution_count": 5,
   "metadata": {},
   "outputs": [
    {
     "data": {
      "text/plain": [
       "array([[1, 0, 0, 0],\n",
       "       [0, 3, 0, 0],\n",
       "       [0, 0, 5, 0],\n",
       "       [0, 0, 0, 7]])"
      ]
     },
     "execution_count": 5,
     "metadata": {},
     "output_type": "execute_result"
    }
   ],
   "source": [
    "#下三角偏移量-1\n",
    "np.tril(matrix1, k=-1)\n",
    "#上三角偏移量1\n",
    "np.triu(matrix1, k=1)\n",
    "#对角元素矩阵\n",
    "np.diag(np.diag(matrix1))"
   ]
  },
  {
   "cell_type": "code",
   "execution_count": 6,
   "metadata": {},
   "outputs": [
    {
     "data": {
      "text/plain": [
       "array([[ 1,  2,  3,  4],\n",
       "       [ 4,  6,  8, 10],\n",
       "       [ 5,  7,  9, 11],\n",
       "       [ 6,  8, 10, 12]])"
      ]
     },
     "execution_count": 6,
     "metadata": {},
     "output_type": "execute_result"
    }
   ],
   "source": [
    "matrix1[1:] = matrix1[1:] + matrix1[1]\n",
    "matrix1"
   ]
  },
  {
   "cell_type": "code",
   "execution_count": 7,
   "metadata": {},
   "outputs": [
    {
     "data": {
      "text/plain": [
       "array([[ 8, 10, 12],\n",
       "       [12, 15, 18],\n",
       "       [16, 20, 24]])"
      ]
     },
     "execution_count": 7,
     "metadata": {},
     "output_type": "execute_result"
    }
   ],
   "source": [
    "matrix1[np.newaxis, 1:, 0] * matrix1[0, 1:, np.newaxis]"
   ]
  },
  {
   "cell_type": "code",
   "execution_count": 8,
   "metadata": {},
   "outputs": [],
   "source": [
    "#矩阵快速LDU分解\n",
    "def quick_LDU(mat):\n",
    "    '''\n",
    "    该LDU分解需要传入方阵\n",
    "    '''\n",
    "    n = mat.shape[0]\n",
    "    index = 0\n",
    "    if np.linalg.det(mat) == 0:\n",
    "        print(\"矩阵不可分解\")\n",
    "        return None\n",
    "    mat = mat.copy().astype(np.float)\n",
    "    def LDU(mat, index):\n",
    "        '''\n",
    "        通过n确定计算次数\n",
    "        '''\n",
    "        if index == n-1:\n",
    "            L, D, U = np.tril(mat, k=-1), np.diag(np.diag(mat)), np.triu(mat, k=1)\n",
    "            di = np.diag_indices(mat.shape[0])\n",
    "            L[di], U[di] = 1, 1\n",
    "            return L, D, U\n",
    "        #开始该次的计算和赋值\n",
    "#         print(mat[index+1:, index], mat[index, index+1:])\n",
    "        #规格化计算\n",
    "        mat[index, index+1:] = mat[index, index+1:] / mat[index, index]\n",
    "        #对列消去\n",
    "#         print(index,  mat, mat[index, index+1:] ,'and',  mat[index, index])\n",
    "#         print((mat[np.newaxis, index+1:, index] * mat[index, index+1:, np.newaxis]))\n",
    "        mat[index+1:, index+1:] = mat[index+1:, index+1:] - \\\n",
    "                                  (mat[np.newaxis, index+1:, index] * mat[index, index+1:, np.newaxis])\n",
    "        #L赋值\n",
    "        mat[index+1:, index] = mat[index, index+1:]  \n",
    "        #函数递归调用\n",
    "        index = index + 1\n",
    "        return LDU(mat, index)\n",
    "    \n",
    "    return LDU(mat, index)\n",
    "        \n",
    "try:        \n",
    "    L, D, U = quick_LDU(matrix3)\n",
    "except Exception as e:\n",
    "    print(e)"
   ]
  },
  {
   "cell_type": "code",
   "execution_count": 18,
   "metadata": {},
   "outputs": [
    {
     "data": {
      "text/plain": [
       "array([[ 2, -1,  0, -1],\n",
       "       [-1,  2, -1,  0],\n",
       "       [ 0, -1,  2, -1],\n",
       "       [-1,  0, -1,  4]], dtype=int8)"
      ]
     },
     "execution_count": 18,
     "metadata": {},
     "output_type": "execute_result"
    }
   ],
   "source": [
    "np.dot(L, np.dot(D, U)).astype(np.int8)"
   ]
  },
  {
   "cell_type": "code",
   "execution_count": 17,
   "metadata": {},
   "outputs": [
    {
     "data": {
      "text/plain": [
       "array([[ 1.        , -0.5       ,  0.        , -0.5       ],\n",
       "       [ 0.        ,  1.        , -0.66666667, -0.33333333],\n",
       "       [ 0.        ,  0.        ,  1.        , -1.        ],\n",
       "       [ 0.        ,  0.        ,  0.        ,  1.        ]])"
      ]
     },
     "execution_count": 17,
     "metadata": {},
     "output_type": "execute_result"
    }
   ],
   "source": [
    "U"
   ]
  },
  {
   "cell_type": "code",
   "execution_count": 16,
   "metadata": {},
   "outputs": [
    {
     "data": {
      "text/plain": [
       "array([[0.        ],\n",
       "       [1.        ],\n",
       "       [0.66666667],\n",
       "       [1.        ]])"
      ]
     },
     "execution_count": 16,
     "metadata": {},
     "output_type": "execute_result"
    }
   ],
   "source": [
    "#前代计算LZ = B\n",
    "def forward_caculate(L, B):\n",
    "    #将L对角线化为0\n",
    "    L = L.copy()\n",
    "    row = L.shape[0]\n",
    "    L[np.diag_indices(row)] = 0\n",
    "    Z = np.zeros((row,1))\n",
    "    #判断B是不是稀疏向量\n",
    "    if type(B) == int or np.sum(B == 0) == B.shape[0]-1:\n",
    "        if type(B) == int:\n",
    "            none_zero_index = B\n",
    "        else:\n",
    "            none_zero_index = np.flatnonzero(B)[0]\n",
    "            B = B[none_zero_index,0]\n",
    "        #非零元素以上行全为零\n",
    "        Z[:none_zero_index-1,0] = 0\n",
    "        for i in range(row - none_zero_index):\n",
    "            if i == 0:\n",
    "                Z[i+none_zero_index,0] =   B\n",
    "            else:\n",
    "                #print(L[np.newaxis, i+none_zero_index, none_zero_index:i+none_zero_index],Z[none_zero_index:i+none_zero_index,0, None])\n",
    "                Z[i+none_zero_index,0] = -np.dot(L[np.newaxis, i+none_zero_index, none_zero_index:i+none_zero_index],Z[none_zero_index:i+none_zero_index,0, None])\n",
    "\n",
    "    elif np.sum(B == 0) < B.shape[0]-1:\n",
    "        for i in range(row):\n",
    "            Z[i] = B[i] - np.dot(L[np.newaxis, i], Z)\n",
    "            \n",
    "    else:\n",
    "        Z = np.zeros((row,1))\n",
    "    \n",
    "    return Z\n",
    "B = np.array([0,1,0,0])[:,None]\n",
    "Z = forward_caculate(L, B)\n",
    "Z"
   ]
  },
  {
   "cell_type": "code",
   "execution_count": 20,
   "metadata": {},
   "outputs": [
    {
     "data": {
      "text/plain": [
       "array([[0.        ],\n",
       "       [0.66666667],\n",
       "       [0.5       ],\n",
       "       [0.5       ]])"
      ]
     },
     "execution_count": 20,
     "metadata": {},
     "output_type": "execute_result"
    }
   ],
   "source": [
    "#规格化计算DY = Z\n",
    "Y = Z/np.diag(D)[:, None]\n",
    "Y"
   ]
  },
  {
   "cell_type": "code",
   "execution_count": 25,
   "metadata": {},
   "outputs": [
    {
     "data": {
      "text/plain": [
       "array([[1. ],\n",
       "       [1.5],\n",
       "       [1. ],\n",
       "       [0.5]])"
      ]
     },
     "execution_count": 25,
     "metadata": {},
     "output_type": "execute_result"
    }
   ],
   "source": [
    "#回代计算UX = Y\n",
    "def backward_caculate(U, Y):\n",
    "    #将L对角线化为0\n",
    "    U = U.copy()\n",
    "    row = U.shape[0]\n",
    "    U[np.diag_indices(row)] = 0\n",
    "    X = np.zeros((row, 1))\n",
    "    for i in range(row-1, -1, -1):\n",
    "        X[i] = Y[i] - np.dot(U[np.newaxis, i], X)\n",
    "    return X\n",
    "X = backward_caculate(U, Y)\n",
    "X"
   ]
  }
 ],
 "metadata": {
  "kernelspec": {
   "display_name": "Python 3",
   "language": "python",
   "name": "python3"
  },
  "language_info": {
   "codemirror_mode": {
    "name": "ipython",
    "version": 3
   },
   "file_extension": ".py",
   "mimetype": "text/x-python",
   "name": "python",
   "nbconvert_exporter": "python",
   "pygments_lexer": "ipython3",
   "version": "3.6.8"
  }
 },
 "nbformat": 4,
 "nbformat_minor": 2
}
